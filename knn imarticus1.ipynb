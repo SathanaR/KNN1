{
 "cells": [
  {
   "cell_type": "code",
   "execution_count": 8,
   "id": "c1fc4fdf",
   "metadata": {},
   "outputs": [],
   "source": [
    "import pandas as pd\n",
    "import numpy as np\n",
    "from scipy import stats\n",
    "import matplotlib.pyplot as plt\n",
    "import seaborn as sns\n",
    "import statsmodels.api as sm\n",
    "from sklearn.neighbors import KNeighborsClassifier\n",
    "from sklearn.model_selection import train_test_split"
   ]
  },
  {
   "cell_type": "code",
   "execution_count": 9,
   "id": "d0dcde96",
   "metadata": {},
   "outputs": [],
   "source": [
    "data=pd.read_csv(\"D:/data analysis class/glass.csv\")"
   ]
  },
  {
   "cell_type": "code",
   "execution_count": 10,
   "id": "8a7e00f6",
   "metadata": {},
   "outputs": [
    {
     "data": {
      "text/html": [
       "<div>\n",
       "<style scoped>\n",
       "    .dataframe tbody tr th:only-of-type {\n",
       "        vertical-align: middle;\n",
       "    }\n",
       "\n",
       "    .dataframe tbody tr th {\n",
       "        vertical-align: top;\n",
       "    }\n",
       "\n",
       "    .dataframe thead th {\n",
       "        text-align: right;\n",
       "    }\n",
       "</style>\n",
       "<table border=\"1\" class=\"dataframe\">\n",
       "  <thead>\n",
       "    <tr style=\"text-align: right;\">\n",
       "      <th></th>\n",
       "      <th>RI</th>\n",
       "      <th>Na</th>\n",
       "      <th>Mg</th>\n",
       "      <th>Al</th>\n",
       "      <th>Si</th>\n",
       "      <th>K</th>\n",
       "      <th>Ca</th>\n",
       "      <th>Ba</th>\n",
       "      <th>Fe</th>\n",
       "      <th>Type</th>\n",
       "    </tr>\n",
       "  </thead>\n",
       "  <tbody>\n",
       "    <tr>\n",
       "      <th>0</th>\n",
       "      <td>1.52101</td>\n",
       "      <td>13.64</td>\n",
       "      <td>4.49</td>\n",
       "      <td>1.10</td>\n",
       "      <td>71.78</td>\n",
       "      <td>0.06</td>\n",
       "      <td>8.75</td>\n",
       "      <td>0.0</td>\n",
       "      <td>0.0</td>\n",
       "      <td>1</td>\n",
       "    </tr>\n",
       "    <tr>\n",
       "      <th>1</th>\n",
       "      <td>1.51761</td>\n",
       "      <td>13.89</td>\n",
       "      <td>3.60</td>\n",
       "      <td>1.36</td>\n",
       "      <td>72.73</td>\n",
       "      <td>0.48</td>\n",
       "      <td>7.83</td>\n",
       "      <td>0.0</td>\n",
       "      <td>0.0</td>\n",
       "      <td>1</td>\n",
       "    </tr>\n",
       "    <tr>\n",
       "      <th>2</th>\n",
       "      <td>1.51618</td>\n",
       "      <td>13.53</td>\n",
       "      <td>3.55</td>\n",
       "      <td>1.54</td>\n",
       "      <td>72.99</td>\n",
       "      <td>0.39</td>\n",
       "      <td>7.78</td>\n",
       "      <td>0.0</td>\n",
       "      <td>0.0</td>\n",
       "      <td>1</td>\n",
       "    </tr>\n",
       "    <tr>\n",
       "      <th>3</th>\n",
       "      <td>1.51766</td>\n",
       "      <td>13.21</td>\n",
       "      <td>3.69</td>\n",
       "      <td>1.29</td>\n",
       "      <td>72.61</td>\n",
       "      <td>0.57</td>\n",
       "      <td>8.22</td>\n",
       "      <td>0.0</td>\n",
       "      <td>0.0</td>\n",
       "      <td>1</td>\n",
       "    </tr>\n",
       "    <tr>\n",
       "      <th>4</th>\n",
       "      <td>1.51742</td>\n",
       "      <td>13.27</td>\n",
       "      <td>3.62</td>\n",
       "      <td>1.24</td>\n",
       "      <td>73.08</td>\n",
       "      <td>0.55</td>\n",
       "      <td>8.07</td>\n",
       "      <td>0.0</td>\n",
       "      <td>0.0</td>\n",
       "      <td>1</td>\n",
       "    </tr>\n",
       "  </tbody>\n",
       "</table>\n",
       "</div>"
      ],
      "text/plain": [
       "        RI     Na    Mg    Al     Si     K    Ca   Ba   Fe  Type\n",
       "0  1.52101  13.64  4.49  1.10  71.78  0.06  8.75  0.0  0.0     1\n",
       "1  1.51761  13.89  3.60  1.36  72.73  0.48  7.83  0.0  0.0     1\n",
       "2  1.51618  13.53  3.55  1.54  72.99  0.39  7.78  0.0  0.0     1\n",
       "3  1.51766  13.21  3.69  1.29  72.61  0.57  8.22  0.0  0.0     1\n",
       "4  1.51742  13.27  3.62  1.24  73.08  0.55  8.07  0.0  0.0     1"
      ]
     },
     "execution_count": 10,
     "metadata": {},
     "output_type": "execute_result"
    }
   ],
   "source": [
    "data.head()"
   ]
  },
  {
   "cell_type": "code",
   "execution_count": 11,
   "id": "4b9c1760",
   "metadata": {},
   "outputs": [
    {
     "data": {
      "text/plain": [
       "RI      0\n",
       "Na      0\n",
       "Mg      0\n",
       "Al      0\n",
       "Si      0\n",
       "K       0\n",
       "Ca      0\n",
       "Ba      0\n",
       "Fe      0\n",
       "Type    0\n",
       "dtype: int64"
      ]
     },
     "execution_count": 11,
     "metadata": {},
     "output_type": "execute_result"
    }
   ],
   "source": [
    "data.isnull().sum()"
   ]
  },
  {
   "cell_type": "code",
   "execution_count": 12,
   "id": "4403f2b9",
   "metadata": {},
   "outputs": [
    {
     "data": {
      "text/plain": [
       "{'whiskers': [<matplotlib.lines.Line2D at 0x26a59dc52b0>,\n",
       "  <matplotlib.lines.Line2D at 0x26a59dc5640>,\n",
       "  <matplotlib.lines.Line2D at 0x26a59dd2ac0>,\n",
       "  <matplotlib.lines.Line2D at 0x26a59dd2e50>,\n",
       "  <matplotlib.lines.Line2D at 0x26a59de9430>,\n",
       "  <matplotlib.lines.Line2D at 0x26a59de97c0>,\n",
       "  <matplotlib.lines.Line2D at 0x26a59df5d60>,\n",
       "  <matplotlib.lines.Line2D at 0x26a59e02130>,\n",
       "  <matplotlib.lines.Line2D at 0x26a59e0d6d0>,\n",
       "  <matplotlib.lines.Line2D at 0x26a59e0da60>,\n",
       "  <matplotlib.lines.Line2D at 0x26a59e25040>,\n",
       "  <matplotlib.lines.Line2D at 0x26a59e253d0>,\n",
       "  <matplotlib.lines.Line2D at 0x26a59e30970>,\n",
       "  <matplotlib.lines.Line2D at 0x26a59e30d00>,\n",
       "  <matplotlib.lines.Line2D at 0x26a59e472e0>,\n",
       "  <matplotlib.lines.Line2D at 0x26a59e47670>,\n",
       "  <matplotlib.lines.Line2D at 0x26a59e54c10>,\n",
       "  <matplotlib.lines.Line2D at 0x26a59e54fa0>,\n",
       "  <matplotlib.lines.Line2D at 0x26a59e6b580>,\n",
       "  <matplotlib.lines.Line2D at 0x26a59e6b910>],\n",
       " 'caps': [<matplotlib.lines.Line2D at 0x26a59dc58b0>,\n",
       "  <matplotlib.lines.Line2D at 0x26a59dc5c40>,\n",
       "  <matplotlib.lines.Line2D at 0x26a59ddd220>,\n",
       "  <matplotlib.lines.Line2D at 0x26a59ddd5b0>,\n",
       "  <matplotlib.lines.Line2D at 0x26a59de9b50>,\n",
       "  <matplotlib.lines.Line2D at 0x26a59de9ee0>,\n",
       "  <matplotlib.lines.Line2D at 0x26a59e024c0>,\n",
       "  <matplotlib.lines.Line2D at 0x26a59e02850>,\n",
       "  <matplotlib.lines.Line2D at 0x26a59e0ddf0>,\n",
       "  <matplotlib.lines.Line2D at 0x26a59e181c0>,\n",
       "  <matplotlib.lines.Line2D at 0x26a59e25760>,\n",
       "  <matplotlib.lines.Line2D at 0x26a59e25af0>,\n",
       "  <matplotlib.lines.Line2D at 0x26a59e3c0d0>,\n",
       "  <matplotlib.lines.Line2D at 0x26a59e3c460>,\n",
       "  <matplotlib.lines.Line2D at 0x26a59e47a00>,\n",
       "  <matplotlib.lines.Line2D at 0x26a59e47d90>,\n",
       "  <matplotlib.lines.Line2D at 0x26a59e60370>,\n",
       "  <matplotlib.lines.Line2D at 0x26a59e60700>,\n",
       "  <matplotlib.lines.Line2D at 0x26a59e6bca0>,\n",
       "  <matplotlib.lines.Line2D at 0x26a59e78070>],\n",
       " 'boxes': [<matplotlib.lines.Line2D at 0x26a59db3eb0>,\n",
       "  <matplotlib.lines.Line2D at 0x26a59dd2730>,\n",
       "  <matplotlib.lines.Line2D at 0x26a59de90a0>,\n",
       "  <matplotlib.lines.Line2D at 0x26a59df59d0>,\n",
       "  <matplotlib.lines.Line2D at 0x26a59e0d340>,\n",
       "  <matplotlib.lines.Line2D at 0x26a59e18c70>,\n",
       "  <matplotlib.lines.Line2D at 0x26a59e305e0>,\n",
       "  <matplotlib.lines.Line2D at 0x26a59e3cf10>,\n",
       "  <matplotlib.lines.Line2D at 0x26a59e54880>,\n",
       "  <matplotlib.lines.Line2D at 0x26a59e6b1f0>],\n",
       " 'medians': [<matplotlib.lines.Line2D at 0x26a59dc5fd0>,\n",
       "  <matplotlib.lines.Line2D at 0x26a59ddd940>,\n",
       "  <matplotlib.lines.Line2D at 0x26a59df52b0>,\n",
       "  <matplotlib.lines.Line2D at 0x26a59e02be0>,\n",
       "  <matplotlib.lines.Line2D at 0x26a59e18550>,\n",
       "  <matplotlib.lines.Line2D at 0x26a59e25e80>,\n",
       "  <matplotlib.lines.Line2D at 0x26a59e3c7f0>,\n",
       "  <matplotlib.lines.Line2D at 0x26a59e54160>,\n",
       "  <matplotlib.lines.Line2D at 0x26a59e60a90>,\n",
       "  <matplotlib.lines.Line2D at 0x26a59e78400>],\n",
       " 'fliers': [<matplotlib.lines.Line2D at 0x26a59dd23a0>,\n",
       "  <matplotlib.lines.Line2D at 0x26a59dddcd0>,\n",
       "  <matplotlib.lines.Line2D at 0x26a59df5640>,\n",
       "  <matplotlib.lines.Line2D at 0x26a59e02f70>,\n",
       "  <matplotlib.lines.Line2D at 0x26a59e188e0>,\n",
       "  <matplotlib.lines.Line2D at 0x26a59e30250>,\n",
       "  <matplotlib.lines.Line2D at 0x26a59e3cb80>,\n",
       "  <matplotlib.lines.Line2D at 0x26a59e544f0>,\n",
       "  <matplotlib.lines.Line2D at 0x26a59e60e20>,\n",
       "  <matplotlib.lines.Line2D at 0x26a59e78790>],\n",
       " 'means': []}"
      ]
     },
     "execution_count": 12,
     "metadata": {},
     "output_type": "execute_result"
    },
    {
     "data": {
      "image/png": "[encoded data removed]",
      "text/plain": [
       "<Figure size 1440x1440 with 1 Axes>"
      ]
     },
     "metadata": {
      "needs_background": "light"
     },
     "output_type": "display_data"
    }
   ],
   "source": [
    "plt.figure(figsize=(20,20))\n",
    "plt.boxplot(data)"
   ]
  },
  {
   "cell_type": "code",
   "execution_count": 14,
   "id": "25efcec2",
   "metadata": {},
   "outputs": [],
   "source": [
    "y=data.Type"
   ]
  },
  {
   "cell_type": "code",
   "execution_count": 15,
   "id": "efc45694",
   "metadata": {},
   "outputs": [],
   "source": [
    "x=data.drop('Type',axis=True)"
   ]
  },
  {
   "cell_type": "code",
   "execution_count": 16,
   "id": "7c54ab0a",
   "metadata": {},
   "outputs": [],
   "source": [
    "x_train, x_test, y_train, y_test = train_test_split(x,y, test_size=0.2,random_state=100)"
   ]
  },
  {
   "cell_type": "code",
   "execution_count": 17,
   "id": "aa1ef3a2",
   "metadata": {},
   "outputs": [],
   "source": [
    "score1=[]\n",
    "for i in range(1,len(y_train)):\n",
    "    model = KNeighborsClassifier(n_neighbors=i)\n",
    "    model.fit(x_train, y_train)\n",
    "    y_predict = model.predict(x_test)\n",
    "    score1.append(model.score(x_test,y_test))"
   ]
  },
  {
   "cell_type": "code",
   "execution_count": 18,
   "id": "288c462c",
   "metadata": {},
   "outputs": [
    {
     "name": "stdout",
     "output_type": "stream",
     "text": [
      "0.7674418604651163 at n= 5\n"
     ]
    }
   ],
   "source": [
    "print(max(score1),\"at n=\",(score1.index(max(score1)))+1)"
   ]
  },
  {
   "cell_type": "code",
   "execution_count": 26,
   "id": "e52f14ff",
   "metadata": {},
   "outputs": [],
   "source": [
    "Model= KNeighborsClassifier(n_neighbors=5)"
   ]
  },
  {
   "cell_type": "code",
   "execution_count": 27,
   "id": "1d54a790",
   "metadata": {},
   "outputs": [
    {
     "data": {
      "text/plain": [
       "KNeighborsClassifier(n_neighbors=170)"
      ]
     },
     "execution_count": 27,
     "metadata": {},
     "output_type": "execute_result"
    }
   ],
   "source": [
    "model.fit(x_train, y_train)"
   ]
  },
  {
   "cell_type": "code",
   "execution_count": 28,
   "id": "093e8e29",
   "metadata": {},
   "outputs": [],
   "source": [
    "y_predict = model.predict(x_test)"
   ]
  },
  {
   "cell_type": "code",
   "execution_count": 29,
   "id": "81e8f0d2",
   "metadata": {},
   "outputs": [],
   "source": [
    "y_predict=pd.DataFrame(y_predict )"
   ]
  },
  {
   "cell_type": "code",
   "execution_count": 30,
   "id": "4b0782df",
   "metadata": {},
   "outputs": [
    {
     "data": {
      "text/plain": [
       "0.3508771929824561"
      ]
     },
     "execution_count": 30,
     "metadata": {},
     "output_type": "execute_result"
    }
   ],
   "source": [
    "model.score(x_train,y_train)"
   ]
  },
  {
   "cell_type": "code",
   "execution_count": 31,
   "id": "b5bfe918",
   "metadata": {},
   "outputs": [
    {
     "data": {
      "text/plain": [
       "KNeighborsClassifier(n_neighbors=170)"
      ]
     },
     "execution_count": 31,
     "metadata": {},
     "output_type": "execute_result"
    }
   ],
   "source": [
    "model.fit(x,y)"
   ]
  },
  {
   "cell_type": "code",
   "execution_count": 32,
   "id": "57bb8b93",
   "metadata": {},
   "outputs": [
    {
     "data": {
      "text/plain": [
       "0.32710280373831774"
      ]
     },
     "execution_count": 32,
     "metadata": {},
     "output_type": "execute_result"
    }
   ],
   "source": [
    "model.score(x,y)"
   ]
  }
 ],
 "metadata": {
  "kernelspec": {
   "display_name": "Python 3 (ipykernel)",
   "language": "python",
   "name": "python3"
  },
  "language_info": {
   "codemirror_mode": {
    "name": "ipython",
    "version": 3
   },
   "file_extension": ".py",
   "mimetype": "text/x-python",
   "name": "python",
   "nbconvert_exporter": "python",
   "pygments_lexer": "ipython3",
   "version": "3.9.7"
  }
 },
 "nbformat": 4,
 "nbformat_minor": 5
}
